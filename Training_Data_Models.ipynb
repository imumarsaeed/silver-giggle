{
 "cells": [
  {
   "cell_type": "code",
   "execution_count": null,
   "metadata": {},
   "outputs": [],
   "source": [
    "import os\n",
    "import pickle\n",
    "import numpy as np\n",
    "%matplotlib inline\n",
    "import matplotlib.pyplot as plt\n",
    "import pandas as pd"
   ]
  },
  {
   "cell_type": "code",
   "execution_count": null,
   "metadata": {},
   "outputs": [],
   "source": [
    "training_data = pd.read_excel (r\"C:\\Users\\MCSL-user\\OneDrive\\Data Sets for Machine Learning\\Data Acquired - Sensor\\0.05_Change_Drift_Fault_Samples\\0.05_Training_Data_First.60(F)_Last.60(N).xlsx\") #gets the data from PC\n",
    "X_train = training_data[['Max','Mean']]\n",
    "y_train = training_data[['Label']]"
   ]
  },
  {
   "cell_type": "code",
   "execution_count": null,
   "metadata": {},
   "outputs": [],
   "source": [
    "#1 SVM Classifier --- kernal=linear\n",
    "from sklearn.svm import SVC  \n",
    "clf = SVC(kernel='linear')  \n",
    "clf.fit(X_train, y_train.values.ravel()) #.ravel() func. accepts values as 2D as 1D was expected by the model"
   ]
  },
  {
   "cell_type": "code",
   "execution_count": null,
   "metadata": {},
   "outputs": [],
   "source": [
    "\"\"\"\"\n",
    "#1 SVM Classifier --- kernal=linear\n",
    "from sklearn.svm import SVC  \n",
    "clf = SVC(kernel='linear')  \n",
    "clf.fit(X_train, y_train.values.ravel()) #.ravel() func. accepts values as 2D as 1D was expected by the model\n",
    "\n",
    "#2 Neural Network  --- hidden layers=3\n",
    "from sklearn.neural_network import MLPClassifier\n",
    "clf = MLPClassifier(solver='lbfgs', alpha=1e-5, hidden_layer_sizes=(2))\n",
    "clf.fit(X_train, y_train.values.ravel())\n",
    "\n",
    "#3 Naive Bayes Classifer --- GaussianNB\n",
    "from sklearn.naive_bayes import GaussianNB\n",
    "clf = GaussianNB()\n",
    "clf.fit(X_train, y_train.values.ravel())\n",
    "\n",
    "#4 K-Nearest Neighbour Classifier --- Neighbors=2\n",
    "from sklearn.neighbors import KNeighborsClassifier\n",
    "clf = KNeighborsClassifier(n_neighbors=2)\n",
    "clf.fit(X_train, y_train.values.ravel())\n",
    "\n",
    "#5 Decision Tree Classifer --- \n",
    "from sklearn.tree import DecisionTreeClassifier\n",
    "clf = DecisionTreeClassifier(max_depth=2)\n",
    "clf.fit(X_train, y_train.values.ravel())\n",
    "\"\"\"\""
   ]
  },
  {
   "cell_type": "code",
   "execution_count": null,
   "metadata": {},
   "outputs": [],
   "source": [
    "with open(r'C:\\Users\\MCSL-user\\Downloads\\0.00\\0.05_SVM','wb') as f: #wb=write binary\n",
    "    pickle.dump(clf,f)"
   ]
  },
  {
   "cell_type": "code",
   "execution_count": null,
   "metadata": {},
   "outputs": [],
   "source": [
    "testing_data = pd.read_excel (r\"C:\\Users\\MCSL-user\\OneDrive\\Data Sets for Machine Learning\\Data Acquired - Sensor\\0.05_Change_Drift_Fault_Samples\\0.05_Testing_Data_First.40(F)_Last.40(N).xlsx\")\n",
    "\n",
    "X_test = testing_data[['Max','Mean']]\n",
    "y_test = testing_data[['Label']]"
   ]
  },
  {
   "cell_type": "code",
   "execution_count": null,
   "metadata": {},
   "outputs": [],
   "source": [
    "with open(r'C:\\Users\\MCSL-user\\Downloads\\0.00\\0.05_SVM','rb') as f: #rb=read binary\n",
    "    prediction = pickle.load(f)\n",
    "    \n",
    "prediction.predict(X_test)"
   ]
  },
  {
   "cell_type": "code",
   "execution_count": null,
   "metadata": {},
   "outputs": [],
   "source": []
  }
 ],
 "metadata": {
  "kernelspec": {
   "display_name": "Python 3",
   "language": "python",
   "name": "python3"
  },
  "language_info": {
   "codemirror_mode": {
    "name": "ipython",
    "version": 3
   },
   "file_extension": ".py",
   "mimetype": "text/x-python",
   "name": "python",
   "nbconvert_exporter": "python",
   "pygments_lexer": "ipython3",
   "version": "3.7.1"
  }
 },
 "nbformat": 4,
 "nbformat_minor": 2
}
